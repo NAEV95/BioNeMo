{
 "cells": [
  {
   "cell_type": "markdown",
   "metadata": {},
   "source": [
    "# Protein Structure Prediction with the AlphaFold2 NIM\n",
    "This example notebook demonstrates how deploy the NVIDIA AlphaFold2 NIM for predicting the 3D structure of a protein from its amino acid sequence.\n",
    "\n",
    "NVIDIA BioNeMo NIMS can be integrated into existing virtual screening workflows to leverage cutting edge Gen-AI capabilities for drug discovery, from ligand generation to protein folding to docking. For more details, please visit the [NVIDIA BioNeMo NIMS homepage](https://build.nvidia.com/explore/healthcare).\n",
    "\n",
    "These capabilities are also integrated into reference workflows in NVIDIA NIM Agent Blueprints. For more details, please visit [NVIDIA NIM Blueprints](https://build.nvidia.com/nim/blueprints).\n"
   ]
  },
  {
   "cell_type": "markdown",
   "metadata": {},
   "source": [
    "## Setup\n",
    "Please make sure the required packages and dependencies are installed. You may install the required packages using the following `pip install` command."
   ]
  },
  {
   "cell_type": "code",
   "execution_count": null,
   "metadata": {},
   "outputs": [],
   "source": [
    "# Please run the following 'pip install' command to install the required libraries\n",
    "!pip install py3dmol\n",
    "\n",
    "import requests\n",
    "\n",
    "# Import libraries for 3-D visualization\n",
    "import py3Dmol\n",
    "import ipywidgets as widgets\n",
    "from IPython.display import display"
   ]
  },
  {
   "cell_type": "markdown",
   "metadata": {},
   "source": [
    "## Prepare the AlphaFold2 NIM\n",
    "Please visit the [NVIDIA AlphaFold2 NIM page](https://build.nvidia.com/deepmind/alphafold2) for additional details and the [AlphaFold NIM Documentation](https://docs.nvidia.com/nim/bionemo/alphafold2/latest/overview.html) to get started."
   ]
  },
  {
   "cell_type": "code",
   "execution_count": null,
   "metadata": {},
   "outputs": [],
   "source": [
    "import re\n",
    "\n",
    "# Define the value of your_api_key\n",
    "your_api_key = <YOUR_API_KEY>\n",
    "\n",
    "# Define the path to the shell script\n",
    "script_path = \"start_alphafold2_nim.sh\"\n",
    "\n",
    "# Read the content of the shell script\n",
    "with open(script_path, \"r\") as file:\n",
    "    script_content = file.read()\n",
    "\n",
    "# Replace the NGC_CLI_API_KEY value with the actual API key using regex\n",
    "updated_script_content = re.sub(r'export NGC_CLI_API_KEY=.*', f'export NGC_CLI_API_KEY=\"{your_api_key}\"', script_content)\n",
    "\n",
    "# Write the updated content back to the shell script\n",
    "with open(script_path, \"w\") as file:\n",
    "    file.write(updated_script_content)\n",
    "\n",
    "print(f\"Updated {script_path} with the provided API key.\")"
   ]
  },
  {
   "cell_type": "markdown",
   "metadata": {},
   "source": [
    "> **NOTE:**  It is especially important to define your `LOCAL_NIM_CACHE` to store the models and databases used by the AlphaFold2 NIM.  These downloads are approximately 500GB and can require hours to download depending on your internet connection.  Using the `LOCAL_NIM_CACHE` will avoid having to re-download these files on subsequent runs."
   ]
  },
  {
   "cell_type": "code",
   "execution_count": null,
   "metadata": {},
   "outputs": [],
   "source": [
    "! chmod +x start_alphafold2_nim.sh\n",
    "! /home/naev2/bionemo_repos/BioNeMo/examples/nims/alphafold2/start_alphafold2_nim.sh"
   ]
  },
  {
   "cell_type": "code",
   "execution_count": null,
   "metadata": {},
   "outputs": [],
   "source": [
    "# Verify that the NIM has started successfully\n",
    "! curl -X 'GET' \\\n",
    "  'http://localhost:8000/v1/health/ready' \\\n",
    "  -H 'accept: application/json'"
   ]
  },
  {
   "cell_type": "markdown",
   "metadata": {},
   "source": [
    "Once the AlphaFold2 NIM has started, you can define the AF2_NIM_HOST variable for use in the code blocks below.  We assume the NIM is running locally.  Please update the URL or IP for your NIM deployment."
   ]
  },
  {
   "cell_type": "code",
   "execution_count": null,
   "metadata": {},
   "outputs": [],
   "source": [
    "AF2_NIM_HOST = 'http://localhost:8000'"
   ]
  },
  {
   "cell_type": "markdown",
   "metadata": {},
   "source": [
    "## Protein Folding with AlphaFold2\n",
    "Once a protein target of interest has been identified, the first step of a virtual screening demonstration is to generate a plausible structure of that protein. We can do this AlphaFold2, a generative, transformer-based model that translates protein sequences into protein structures.\n",
    "\n",
    "To demonstrate this part of a virtual screening workflow, we begin with an example protein. Here, we choose the SARS-CoV-2 main protease as our starting sequence. We query the AlphaFold2 endpoint with this sequence and the model returns the predicted protein structure.\n",
    "\n",
    "Please note that this step may take 15~20 minutes to be finished (depending on the GPU type)."
   ]
  },
  {
   "cell_type": "code",
   "execution_count": null,
   "metadata": {},
   "outputs": [],
   "source": [
    "# SARS CoV-2 main protease sequence\n",
    "protein = \"SGFRKMAFPSGKVEGCMVQVTCGTTTLNGLWLDDVVYCPRHVICTSEDMLNPNYEDLLIRKSNHNFLVQAGNVQLRVIGHSMQNCVLKLKVDTANPKTPKYKFVRIQPGQTFSVLACYNGSPSGVYQCAMRPNFTIKGSFLNGSCGSVGFNIDYDCVSFCYMHHMELPTGVHAGTDLEGNFYGPFVDRQTAQAAGTDTTITVNVLAWLYAAVINGDRWFLNRFTTTLNDFNLVAMKYNYEPLTQDHVDILGPLSAQTGIAVLDMCASLKELLQNGMNGRTILGSALLEDEFTPFDVVRQCSGVTFQ\""
   ]
  },
  {
   "cell_type": "code",
   "execution_count": null,
   "metadata": {},
   "outputs": [],
   "source": [
    "# Query AlphaFold2 with sequence above\n",
    "af2_response = requests.post(\n",
    "    f'{AF2_NIM_HOST}/protein-structure/alphafold2/predict-structure-from-sequence',\n",
    "    json={\n",
    "        'sequence': protein,\n",
    "        'databases': ['uniref90', 'mgnify', 'small_bfd'],\n",
    "        'msa_algorithm': 'jackhmmer',\n",
    "        'e_value': 0.0001,\n",
    "        'bit_score': -1, # -1 means to fallback to the e-value\n",
    "        'msa_iterations': 1,\n",
    "        'relax_prediction': True,\n",
    "    }).json()"
   ]
  },
  {
   "cell_type": "code",
   "execution_count": null,
   "metadata": {
    "scrolled": true
   },
   "outputs": [],
   "source": [
    "# Receive protein structure for SARS CoV-2 protease\n",
    "folded_protein = af2_response[0]"
   ]
  },
  {
   "cell_type": "code",
   "execution_count": null,
   "metadata": {},
   "outputs": [],
   "source": [
    "# [OPTIONAL STEP]: Write the structure coordinates to a file\n",
    "filename = \"folded_protein.pdb\"\n",
    "\n",
    "# Open the file in write mode\n",
    "with open(filename, 'w') as file:\n",
    "    # Write some text to the file\n",
    "    file.write(folded_protein)"
   ]
  },
  {
   "cell_type": "code",
   "execution_count": null,
   "metadata": {},
   "outputs": [],
   "source": [
    "# Printing a subset of atomic 3-D coordinates from the AlphaFold-2 predicted structure\n",
    "print(folded_protein[:483])"
   ]
  },
  {
   "attachments": {
    "f58eb231-178e-4bbf-a5f8-2ec5a32eb71a.png": {
     "image/png": "[encoded data removed]"
    }
   },
   "cell_type": "markdown",
   "metadata": {},
   "source": [
    "### Structural Visualization\n",
    "\n",
    "The predicted structure can be visualized using tools such as PyMol, VMD, Chimera, etc. \n",
    "\n",
    "Here, we will use Py3DMol inside this Jupyter Notebook for 3-D visualization.\n",
    "\n",
    "The structure prediction by AlphaFold-2 also provides atomic pLDDT scores, reflecting the prediction confidence score. These values are written in the B-factor column in a PDB file. \n",
    "\n",
    "Here, the 3-D visualization is rendered to approximate pLDDT scores per the following color range to represent confidence scores.\n",
    "\n",
    "![image.png](attachment:f58eb231-178e-4bbf-a5f8-2ec5a32eb71a.png)\n"
   ]
  },
  {
   "cell_type": "code",
   "execution_count": null,
   "metadata": {},
   "outputs": [],
   "source": [
    "# Visualizing AlphaFold2 predicted protein structure using Py3DMol viewer\n",
    "# Initialize the viewer\n",
    "view = py3Dmol.view(width=1200, height=900)\n",
    "\n",
    "# Add the protein structure from the PDB data\n",
    "view.addModel(folded_protein, \"pdb\")\n",
    "\n",
    "# Set the style and color by B-factor (approximating colors for pLDDT scores)\n",
    "view.zoomTo()\n",
    "view.setStyle({'cartoon': {'colorscheme': {'prop': 'b', 'gradient': 'roygb', 'min': 40, 'max': 100}}})"
   ]
  },
  {
   "cell_type": "markdown",
   "metadata": {},
   "source": [
    "## Summary\n",
    "\n",
    "In this workflow, we've demonatrated how to use the AlphaFold2 NIM to generate the predicted 3D structure of a protein from its amino acid sequence.\n",
    "\n",
    "To learn more about BioNeMo NIMs, visit the [NVIDIA BioNeMo NIMS homepage](https://build.nvidia.com/explore/healthcare).  To see how these NIMs can be integrated into reference workflows, visit [NVIDIA NIM Blueprints](https://build.nvidia.com/nim/blueprints)."
   ]
  }
 ],
 "metadata": {
  "kernelspec": {
   "display_name": "Python 3 (ipykernel)",
   "language": "python",
   "name": "python3"
  },
  "language_info": {
   "codemirror_mode": {
    "name": "ipython",
    "version": 3
   },
   "file_extension": ".py",
   "mimetype": "text/x-python",
   "name": "python",
   "nbconvert_exporter": "python",
   "pygments_lexer": "ipython3",
   "version": "3.10.12"
  }
 },
 "nbformat": 4,
 "nbformat_minor": 4
}
